{
  "nbformat": 4,
  "nbformat_minor": 0,
  "metadata": {
    "colab": {
      "provenance": []
    },
    "kernelspec": {
      "name": "python3",
      "display_name": "Python 3"
    },
    "language_info": {
      "name": "python"
    }
  },
  "cells": [
    {
      "cell_type": "code",
      "execution_count": 8,
      "metadata": {
        "colab": {
          "base_uri": "https://localhost:8080/"
        },
        "id": "J2HClE9TisdH",
        "outputId": "b49543d6-3ee3-4099-a8de-a25978efdd9b"
      },
      "outputs": [
        {
          "output_type": "stream",
          "name": "stdout",
          "text": [
            "Digite o primeiro número:3\n",
            "Digite o segundo número:6\n",
            "Digite o tipo de operação (+, -, *, /):+\n",
            "A soma é: 9\n"
          ]
        }
      ],
      "source": [
        "# coletando os valores para realização do calculo\n",
        "\n",
        "num1 = int(input('Digite o primeiro número:'))\n",
        "num2 = int(input('Digite o segundo número:'))\n",
        "tipoOperacao = input('Digite o tipo de operação (+, -, *, /):')\n",
        "if tipoOperacao == '+':\n",
        "    print('A soma é:', num1 + num2)\n",
        "elif tipoOperacao == '-':\n",
        "    print('A subtração é:', num1 - num2)\n",
        "elif tipoOperacao == '*':\n",
        "    print('A multiplicação é:', num1 * num2)\n",
        "elif tipoOperacao == '/':\n",
        "    print('A divisão é:', num1 / num2)\n",
        "else:\n",
        "    print('Operação inválida')\n"
      ]
    }
  ]
}